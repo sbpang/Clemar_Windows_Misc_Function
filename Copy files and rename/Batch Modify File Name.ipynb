{
 "cells": [
  {
   "cell_type": "code",
   "execution_count": 1,
   "metadata": {},
   "outputs": [],
   "source": [
    "import os\n",
    "from os import listdir\n",
    "import shutil\n",
    "#baseFilePath = input(\"Enter Base File Path:\")\n",
    "#tarFilePath = input(\"Enter Target File Path:\")\n",
    "baseFilePath = r\"\\\\172.16.0.2\\uracm_bim\\Andy\\20210810\\Picture\\OK Picture\"\n",
    "tarFilePath = r\"\\\\172.16.0.2\\uracm_bim\\Andy\\20210810\\Picture\\OK Picture\"\n",
    "movdir = tarFilePath\n",
    "basedir = baseFilePath"
   ]
  },
  {
   "cell_type": "code",
   "execution_count": 2,
   "metadata": {},
   "outputs": [
    {
     "name": "stdout",
     "output_type": "stream",
     "text": [
      "\\\\172.16.0.2\\uracm_bim\\Andy\\20210810\\Picture\\OK Picture\\B1307917.jpg\n"
     ]
    }
   ],
   "source": [
    "oldnamelist=list()\n",
    "extlist = list()\n",
    "baselist = list()\n",
    "whnamelist = list()\n",
    "testnew=list()\n",
    "counts=0\n",
    "\n",
    "#formulatednewname=list()\n",
    "\n",
    "for root, dirs, files in os.walk(basedir):\n",
    "    for filename in files:\n",
    "        old_name = os.path.join(os.path.abspath(root), filename)\n",
    "        oldnamelist.append(old_name)\n",
    "        \n",
    "        # Separate base from extension\n",
    "        base, extension = os.path.splitext(filename)\n",
    "        if extension == \".jpg\":\n",
    "            formulatednewname=tarFilePath+\"\\\\\"+base[0:8]+extension\n",
    "            try:\n",
    "                shutil.copy(old_name, formulatednewname)\n",
    "            except:\n",
    "                continue\n",
    "    \n",
    "#print(oldnamelist)\n",
    "print(formulatednewname)"
   ]
  },
  {
   "cell_type": "code",
   "execution_count": null,
   "metadata": {},
   "outputs": [],
   "source": []
  },
  {
   "cell_type": "code",
   "execution_count": null,
   "metadata": {},
   "outputs": [],
   "source": []
  },
  {
   "cell_type": "code",
   "execution_count": null,
   "metadata": {},
   "outputs": [],
   "source": []
  }
 ],
 "metadata": {
  "kernelspec": {
   "display_name": "Python 3",
   "language": "python",
   "name": "python3"
  },
  "language_info": {
   "codemirror_mode": {
    "name": "ipython",
    "version": 3
   },
   "file_extension": ".py",
   "mimetype": "text/x-python",
   "name": "python",
   "nbconvert_exporter": "python",
   "pygments_lexer": "ipython3",
   "version": "3.8.5"
  }
 },
 "nbformat": 4,
 "nbformat_minor": 4
}
