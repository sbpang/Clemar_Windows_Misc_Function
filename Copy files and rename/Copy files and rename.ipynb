{
 "cells": [
  {
   "cell_type": "code",
   "execution_count": 1,
   "metadata": {},
   "outputs": [],
   "source": [
    "import os\n",
    "from os import listdir\n",
    "import shutil\n",
    "#baseFilePath = input(\"Enter Base File Path:\")\n",
    "#tarFilePath = input(\"Enter Target File Path:\")\n",
    "baseFilePath = r\"C:\\Users\\VIRCON_admin\\OneDrive - Vircon Limited\\Project\\Revit\\python\\Python Script\\Copy files and rename\\baseFilePath\"\n",
    "tarFilePath = r\"C:\\Users\\VIRCON_admin\\OneDrive - Vircon Limited\\Project\\Revit\\python\\Python Script\\Copy files and rename\\tarFilePath\"\n",
    "movdir = tarFilePath\n",
    "basedir = baseFilePath"
   ]
  },
  {
   "cell_type": "code",
   "execution_count": 2,
   "metadata": {},
   "outputs": [],
   "source": [
    "test0=list()\n",
    "test1=list()\n",
    "test2=list()\n",
    "testold=list()\n",
    "testnew=list()\n",
    "counts=0\n",
    "\n",
    "formulatednewname=list()\n",
    "\n",
    "for root, dirs, files in os.walk(basedir):\n",
    "    for filename in files:\n",
    "        # I use absolute path, case you want to move several dirs.\n",
    "        old_name = os.path.join(os.path.abspath(root), filename)\n",
    "        testold.append(old_name)\n",
    "        \n",
    "        # Separate base from extension\n",
    "        base, extension = os.path.splitext(filename)\n",
    "        \n",
    "        basesplit=base.split(\"_\")\n",
    "        suf=int(basesplit[1])\n",
    "        for i in range(30):\n",
    "            i=i+1\n",
    "            suf=suf+1\n",
    "            i=basesplit[0]+\"_\"+str(suf).zfill(4)+extension\n",
    "            #formulatednewname.append(basesplit[0]+\"_\"+str(suf).zfill(4)+extension)\n",
    "            new_name = os.path.join(movdir, i)\n",
    "            testnew.append(new_name)\n",
    "            shutil.copy(old_name, new_name)\n",
    "    \n",
    "#print(testold[0])\n",
    "#print(formulatednewname)\n",
    "#print(range(len(testnew)))\n",
    "#print(count)"
   ]
  },
  {
   "cell_type": "code",
   "execution_count": null,
   "metadata": {},
   "outputs": [],
   "source": []
  },
  {
   "cell_type": "code",
   "execution_count": null,
   "metadata": {},
   "outputs": [],
   "source": []
  },
  {
   "cell_type": "code",
   "execution_count": null,
   "metadata": {},
   "outputs": [],
   "source": []
  }
 ],
 "metadata": {
  "kernelspec": {
   "display_name": "Python 3",
   "language": "python",
   "name": "python3"
  },
  "language_info": {
   "codemirror_mode": {
    "name": "ipython",
    "version": 3
   },
   "file_extension": ".py",
   "mimetype": "text/x-python",
   "name": "python",
   "nbconvert_exporter": "python",
   "pygments_lexer": "ipython3",
   "version": "3.8.5"
  }
 },
 "nbformat": 4,
 "nbformat_minor": 4
}
